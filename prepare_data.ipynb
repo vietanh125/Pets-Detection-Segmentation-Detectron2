{
  "nbformat": 4,
  "nbformat_minor": 0,
  "metadata": {
    "kernelspec": {
      "display_name": "WORK_ENV",
      "language": "python",
      "name": "work_env"
    },
    "language_info": {
      "codemirror_mode": {
        "name": "ipython",
        "version": 3
      },
      "file_extension": ".py",
      "mimetype": "text/x-python",
      "name": "python",
      "nbconvert_exporter": "python",
      "pygments_lexer": "ipython3",
      "version": "3.7.6"
    },
    "colab": {
      "name": "prepare_data.ipynb",
      "provenance": [],
      "collapsed_sections": []
    }
  },
  "cells": [
    {
      "cell_type": "markdown",
      "metadata": {
        "id": "CnevUk7BWOxB",
        "colab_type": "text"
      },
      "source": [
        "# Object detection"
      ]
    },
    {
      "cell_type": "code",
      "metadata": {
        "id": "TpJt2xRNWOxC",
        "colab_type": "code",
        "colab": {}
      },
      "source": [
        "import os\n",
        "import json\n",
        "import cv2\n",
        "import numpy as np\n",
        "import xml.etree.ElementTree as ET\n",
        "import xmltodict\n",
        "import json\n",
        "from pycocotools import mask\n",
        "from xml.dom import minidom\n",
        "from collections import OrderedDict\n",
        "    \n",
        "# Convert VOC annotations files into COCO format\n",
        "def generateVOC2Json(rootDir,xmlFiles):\n",
        "    attrDict = dict()\n",
        "    attrDict[\"categories\"]=[{\"supercategory\":\"none\",\"id\":0,\"name\":\"cat\"},\n",
        "                    {\"supercategory\":\"none\",\"id\":1,\"name\":\"dog\"}\n",
        "                  ]\n",
        "    images = list()\n",
        "    annotations = list()\n",
        "    for root, dirs, files in os.walk(rootDir):\n",
        "        image_id = 0\n",
        "        for file in xmlFiles:\n",
        "            image_id = image_id + 1\n",
        "            if file in files:\n",
        "                try:\n",
        "                    annotation_path = os.path.abspath(os.path.join(root, file))\n",
        "                    image = dict()\n",
        "\n",
        "                    doc = xmltodict.parse(open(annotation_path).read())\n",
        "                    image['file_name'] = str(doc['annotation']['filename'])\n",
        "                    image['height'] = int(doc['annotation']['size']['height'])\n",
        "                    image['width'] = int(doc['annotation']['size']['width'])\n",
        "                    image['sem_seg_file_name'] = 'trimaps/' + file[:-4] + '.png'\n",
        "\n",
        "                    image['id'] = image_id\n",
        "                    print(\"File Name: {} and image_id {}\".format(file, image_id))\n",
        "                    images.append(image)\n",
        "                    \n",
        "                    id1 = 1\n",
        "                    if 'object' in doc['annotation']:\n",
        "                        obj = doc['annotation']['object']\n",
        "                        for value in attrDict[\"categories\"]:\n",
        "                            annotation = dict()\n",
        "                            if str(obj['name']) == value[\"name\"]:\n",
        "                                annotation[\"iscrowd\"] = 0\n",
        "                                annotation[\"image_id\"] = image_id\n",
        "                                x1 = int(obj[\"bndbox\"][\"xmin\"])  - 1\n",
        "                                y1 = int(obj[\"bndbox\"][\"ymin\"]) - 1\n",
        "                                x2 = int(obj[\"bndbox\"][\"xmax\"]) - x1\n",
        "                                y2 = int(obj[\"bndbox\"][\"ymax\"]) - y1\n",
        "                                annotation[\"bbox\"] = [x1, y1, x2, y2]\n",
        "                                annotation[\"area\"] = float(x2 * y2)\n",
        "                                annotation[\"category_id\"] = value[\"id\"]\n",
        "                                annotation[\"ignore\"] = 0\n",
        "                                annotation[\"id\"] = image_id\n",
        "                                \n",
        "                                annotation[\"segmentation\"] = []\n",
        "                                id1 +=1\n",
        "\n",
        "                                annotations.append(annotation)\n",
        "\n",
        "                    else:\n",
        "                        print(\"File: {} doesn't have any object\".format(file))\n",
        "                except:\n",
        "                    pass\n",
        "                \n",
        "            else:\n",
        "                print(\"File: {} not found\".format(file))\n",
        "            \n",
        "\n",
        "    attrDict[\"images\"] = images    \n",
        "    attrDict[\"annotations\"] = annotations\n",
        "    attrDict['info'] = {\n",
        "        'contributor': 'QuangPham',\n",
        "        'date_created': '2020/05/05',\n",
        "        'description': 'Pets',\n",
        "        'url': 'https://viblo.asia/u/QuangPH',\n",
        "        'version': '1.1',\n",
        "        'year': 2020\n",
        "    }\n",
        "\n",
        "    attrDict['licenses'] = [{'id': 1, 'name': 'QuangPham', 'url': 'https://viblo.asia/u/QuangPH'}]\n",
        "    jsonString = json.dumps(attrDict)\n",
        "    \n",
        "    return jsonString"
      ],
      "execution_count": 0,
      "outputs": []
    },
    {
      "cell_type": "code",
      "metadata": {
        "id": "772jbpXFWOxI",
        "colab_type": "code",
        "colab": {}
      },
      "source": [
        "from sklearn.model_selection import train_test_split\n",
        "\n",
        "# split train/test\n",
        "trainFile = \"./annotations/trainval.txt\"\n",
        "XMLFiles = list()\n",
        "with open(trainFile, \"r\") as f:\n",
        "    for line in f:\n",
        "        fileName = line.strip().split()[0]\n",
        "        XMLFiles.append(fileName + \".xml\")\n",
        "\n",
        "\n",
        "trainXMLFiles, testXMLFiles = train_test_split(XMLFiles, test_size=0.2, random_state=24)\n",
        "print(len(trainXMLFiles), len(testXMLFiles))"
      ],
      "execution_count": 0,
      "outputs": []
    },
    {
      "cell_type": "code",
      "metadata": {
        "id": "tnCX8x8KWOxM",
        "colab_type": "code",
        "colab": {}
      },
      "source": [
        "rootDir = \"/home/pham.huu.quang/PycharmProjects/Pets/annotations/xmls\"\n",
        "train_attrDict = generateVOC2Json(rootDir, trainXMLFiles)\n",
        "with open(\"./train_object_detection.json\", \"w\") as f:\n",
        "        f.write(train_attrDict)\n",
        "        \n",
        "test_attrDict = generateVOC2Json(rootDir, valXMLFiles)\n",
        "with open(\"./test_object_detection.json\", \"w\") as f:\n",
        "        f.write(test_attrDict)"
      ],
      "execution_count": 0,
      "outputs": []
    },
    {
      "cell_type": "code",
      "metadata": {
        "id": "ewM_T8r_WOxQ",
        "colab_type": "code",
        "colab": {}
      },
      "source": [
        ""
      ],
      "execution_count": 0,
      "outputs": []
    },
    {
      "cell_type": "markdown",
      "metadata": {
        "id": "5zZzm1H0WOxU",
        "colab_type": "text"
      },
      "source": [
        "# Segmentation"
      ]
    },
    {
      "cell_type": "code",
      "metadata": {
        "id": "y0VdBOLNWOxV",
        "colab_type": "code",
        "colab": {}
      },
      "source": [
        "import os\n",
        "import json\n",
        "import cv2\n",
        "import numpy as np\n",
        "import xml.etree.ElementTree as ET\n",
        "import xmltodict\n",
        "import json\n",
        "from pycocotools import mask\n",
        "from xml.dom import minidom\n",
        "from collections import OrderedDict\n",
        "\n",
        "def mask_to_bbox(img):\n",
        "    rows = np.any(img == 1, axis=1)\n",
        "    cols = np.any(img == 1, axis=0)\n",
        "    ymin, ymax = np.where(rows)[0][[0, -1]]\n",
        "    xmin, xmax = np.where(cols)[0][[0, -1]]\n",
        "\n",
        "    return max(xmin - 15, 0), min(xmax + 15, img.shape[1]), max(ymin - 15, 0), min(ymax + 15, img.shape[0])\n",
        "    \n",
        "\n",
        "def generateVOC2Json(rootDir,xmlFiles):\n",
        "    attrDict = dict()\n",
        "    attrDict[\"categories\"]=[{\"supercategory\":\"none\",\"id\":0,\"name\":\"cat\"},\n",
        "                    {\"supercategory\":\"none\",\"id\":1,\"name\":\"dog\"}\n",
        "                  ]\n",
        "    images = list()\n",
        "    annotations = list()\n",
        "    for root, dirs, files in os.walk(rootDir):\n",
        "        image_id = 0\n",
        "        for file in xmlFiles:\n",
        "            image_id = image_id + 1\n",
        "            if file in files:\n",
        "                try:\n",
        "                    annotation_path = os.path.abspath(os.path.join(root, file))\n",
        "                    image = dict()\n",
        "                    doc = xmltodict.parse(open(annotation_path).read())\n",
        "                    image['file_name'] = str(doc['annotation']['filename'])\n",
        "                    image['height'] = int(doc['annotation']['size']['height'])\n",
        "                    image['width'] = int(doc['annotation']['size']['width'])\n",
        "                    image['sem_seg_file_name'] = 'trimaps/' + file[:-4] + '.png'\n",
        "                    image['id'] = image_id\n",
        "                    print(\"File Name: {} and image_id {}\".format(file, image_id))\n",
        "                    images.append(image)\n",
        "\n",
        "                    id1 = 1\n",
        "                    if 'object' in doc['annotation']:\n",
        "                        obj = doc['annotation']['object']\n",
        "                        for value in attrDict[\"categories\"]:\n",
        "                            annotation = dict()\n",
        "                            if str(obj['name']) == value[\"name\"]:\n",
        "                                annotation[\"iscrowd\"] = 0\n",
        "                                annotation[\"image_id\"] = image_id\n",
        "                                x1 = int(obj[\"bndbox\"][\"xmin\"])  - 1\n",
        "                                y1 = int(obj[\"bndbox\"][\"ymin\"]) - 1\n",
        "                                x2 = int(obj[\"bndbox\"][\"xmax\"]) - x1\n",
        "                                y2 = int(obj[\"bndbox\"][\"ymax\"]) - y1\n",
        "                                annotation[\"bbox\"] = [x1, y1, x2, y2]\n",
        "                                annotation[\"area\"] = float(x2 * y2)\n",
        "                                annotation[\"category_id\"] = value[\"id\"]\n",
        "                                annotation[\"ignore\"] = 0\n",
        "                                annotation[\"id\"] = image_id\n",
        "                                \n",
        "                                image_mask = cv2.imread(os.path.join(root[:-5], \"trimaps/\") + file[:-4] + \".png\")\n",
        "                    \n",
        "                                xmin, xmax, ymin, ymax = mask_to_bbox(image_mask[:, :, 0])\n",
        "                        \n",
        "                                image_mask = np.where(image_mask==3, 1, image_mask)\n",
        "                                image_mask = np.where(image_mask==2, 0, image_mask)\n",
        "                                image_mask = image_mask.astype('uint8')\n",
        "                                segmask = mask.encode(np.asarray(image_mask, order=\"F\"))\n",
        "                                \n",
        "                                for seg in segmask:\n",
        "                                    seg['counts'] = seg['counts'].decode('utf-8')\n",
        "                                \n",
        "                                x1 = int(xmin)\n",
        "                                y1 = int(ymin)\n",
        "                                x2 = int(xmax - x1)\n",
        "                                y2 = int(ymax - y1)\n",
        "                                annotation[\"bbox\"] = [x1, y1, x2, y2]\n",
        "                                annotation[\"area\"] = float(x2 * y2)\n",
        "                                \n",
        "                                annotation[\"segmentation\"] = segmask[0]\n",
        "                                id1 +=1\n",
        "\n",
        "                                annotations.append(annotation)\n",
        "\n",
        "                    else:\n",
        "                        print(\"File: {} doesn't have any object\".format(file))\n",
        "                except:\n",
        "                    pass\n",
        "                \n",
        "            else:\n",
        "                print(\"File: {} not found\".format(file))\n",
        "            \n",
        "\n",
        "    attrDict[\"images\"] = images    \n",
        "    attrDict[\"annotations\"] = annotations\n",
        "    attrDict['info'] = {\n",
        "        'contributor': 'QuangPham',\n",
        "        'date_created': '2020/05/05',\n",
        "        'description': 'Pets',\n",
        "        'url': 'https://viblo.asia/u/QuangPH',\n",
        "        'version': '1.1',\n",
        "        'year': 2020\n",
        "    }\n",
        "\n",
        "    attrDict['licenses'] = [{'id': 1, 'name': 'QuangPham', 'url': 'https://viblo.asia/u/QuangPH'}]\n",
        "    jsonString = json.dumps(attrDict)\n",
        "    \n",
        "    return jsonString"
      ],
      "execution_count": 0,
      "outputs": []
    },
    {
      "cell_type": "code",
      "metadata": {
        "id": "w5nCAZpGWOxZ",
        "colab_type": "code",
        "colab": {}
      },
      "source": [
        "from sklearn.model_selection import train_test_split\n",
        "        \n",
        "trainFile = \"./annotations/trainval.txt\"\n",
        "XMLFiles = list()\n",
        "with open(trainFile, \"r\") as f:\n",
        "    for line in f:\n",
        "        fileName = line.strip().split()[0]\n",
        "        XMLFiles.append(fileName + \".xml\")\n",
        "\n",
        "trainXMLFiles, testXMLFiles = train_test_split(XMLFiles, test_size=0.2, random_state=24)\n",
        "print(len(trainXMLFiles), len(testXMLFiles))"
      ],
      "execution_count": 0,
      "outputs": []
    },
    {
      "cell_type": "code",
      "metadata": {
        "id": "T_gOwk_1WOxd",
        "colab_type": "code",
        "colab": {}
      },
      "source": [
        "rootDir = \"/home/pham.huu.quang/PycharmProjects/Pets/annotations/xmls\"\n",
        "train_attrDict = generateVOC2Json(rootDir, trainXMLFiles)\n",
        "with open(\"./train_segmentation.json\", \"w\") as f:\n",
        "        f.write(train_attrDict)\n",
        "        \n",
        "test_attrDict = generateVOC2Json(rootDir, testXMLFiles)\n",
        "with open(\"./test_segmentation.json\", \"w\") as f:\n",
        "        f.write(test_attrDict)"
      ],
      "execution_count": 0,
      "outputs": []
    },
    {
      "cell_type": "code",
      "metadata": {
        "id": "VsKWDuRmWOxh",
        "colab_type": "code",
        "colab": {}
      },
      "source": [
        ""
      ],
      "execution_count": 0,
      "outputs": []
    },
    {
      "cell_type": "code",
      "metadata": {
        "id": "dLAa6ooKWOxj",
        "colab_type": "code",
        "colab": {}
      },
      "source": [
        ""
      ],
      "execution_count": 0,
      "outputs": []
    }
  ]
}